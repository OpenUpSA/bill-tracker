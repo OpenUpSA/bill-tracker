{
  "nbformat": 4,
  "nbformat_minor": 0,
  "metadata": {
    "colab": {
      "provenance": []
    },
    "kernelspec": {
      "name": "python3",
      "display_name": "Python 3"
    },
    "language_info": {
      "name": "python"
    }
  },
  "cells": [
    {
      "cell_type": "code",
      "execution_count": null,
      "metadata": {
        "id": "FS71avXo8Oog"
      },
      "outputs": [],
      "source": [
        "import pandas as pd\n",
        "\n",
        "# Install pandas if not already installed\n",
        "# !pip install pandas\n",
        "\n",
        "df = pd.read_csv('attendance_wip.csv')\n",
        "\n",
        "print(df.head())"
      ]
    },
    {
      "cell_type": "code",
      "source": [
        "for col in ['actual_start_time', 'actual_end_time', 'scheduled_start_time', 'scheduled_end_time']:\n",
        "    if col in df.columns:\n",
        "      df[col] = pd.to_datetime(df[col], errors='coerce')\n",
        "\n",
        "# Calculate actual_length\n",
        "df['actual_length'] = (df['actual_end_time'].fillna(df['scheduled_end_time']) - df['actual_start_time'].fillna(df['scheduled_start_time'])).dt.total_seconds() / 60\n",
        "\n",
        "# Calculate scheduled_length\n",
        "df['scheduled_length'] = (df['scheduled_end_time'].fillna(df['actual_end_time']) - df['scheduled_start_time'].fillna(df['actual_start_time'])).dt.total_seconds() / 60\n",
        "\n",
        "missing_end_times = df['scheduled_length'].isnull()\n",
        "df.loc[missing_end_times, 'scheduled_length'] = 60\n",
        "\n",
        "df\n",
        "\n",
        "df.to_csv('output.csv', index=False)"
      ],
      "metadata": {
        "id": "NVRcGB5a8u6h"
      },
      "execution_count": null,
      "outputs": []
    },
    {
      "cell_type": "code",
      "source": [
        "# Convert time columns to datetime objects\n",
        "for col in ['actual_start_time', 'actual_end_time', 'scheduled_start_time', 'scheduled_end_time']:\n",
        "    if col in df.columns:\n",
        "        df[col] = pd.to_datetime(df[col], errors='coerce')\n",
        "\n",
        "# Extract only the hour and minute part\n",
        "for col in ['actual_start_time', 'actual_end_time', 'scheduled_start_time', 'scheduled_end_time']:\n",
        "    df[col] = df[col].dt.strftime('%H:%M')\n",
        "\n",
        "# Calculate actual_length as integer\n",
        "df['actual_length'] = ((pd.to_datetime(df['actual_end_time'], format='%H:%M')\n",
        "                        .fillna(pd.to_datetime(df['scheduled_end_time'], format='%H:%M')))\n",
        "                       - (pd.to_datetime(df['actual_start_time'], format='%H:%M')\n",
        "                          .fillna(pd.to_datetime(df['scheduled_start_time'], format='%H:%M'))))\n",
        "df['actual_length'] = (df['actual_length'].dt.total_seconds() / 60).fillna(0).astype(int)\n",
        "\n",
        "# Calculate scheduled_length as integer\n",
        "df['scheduled_length'] = ((pd.to_datetime(df['scheduled_end_time'], format='%H:%M')\n",
        "                           .fillna(pd.to_datetime(df['actual_end_time'], format='%H:%M')))\n",
        "                          - (pd.to_datetime(df['scheduled_start_time'], format='%H:%M')\n",
        "                             .fillna(pd.to_datetime(df['actual_start_time'], format='%H:%M'))))\n",
        "df['scheduled_length'] = (df['scheduled_length'].dt.total_seconds() / 60).fillna(60).astype(int)\n",
        "\n",
        "df"
      ],
      "metadata": {
        "id": "wNu9IpTqLmgN"
      },
      "execution_count": null,
      "outputs": []
    },
    {
      "cell_type": "code",
      "source": [
        "df = df.drop(columns=[\"alternate\"])\n",
        "df.head()"
      ],
      "metadata": {
        "id": "GZvo-HHlMI5p"
      },
      "execution_count": null,
      "outputs": []
    },
    {
      "cell_type": "code",
      "source": [
        "\n",
        "df.to_csv('output.csv', index=False)"
      ],
      "metadata": {
        "id": "6a_p3uQ-L96i"
      },
      "execution_count": null,
      "outputs": []
    }
  ]
}