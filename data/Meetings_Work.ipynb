{
  "nbformat": 4,
  "nbformat_minor": 0,
  "metadata": {
    "colab": {
      "provenance": []
    },
    "kernelspec": {
      "name": "python3",
      "display_name": "Python 3"
    },
    "language_info": {
      "name": "python"
    }
  },
  "cells": [
    {
      "cell_type": "code",
      "source": [
        "from google.colab import drive\n",
        "import pandas as pd\n",
        "\n",
        "drive.mount('/content/drive')"
      ],
      "metadata": {
        "id": "C40oVed7-9dI"
      },
      "execution_count": null,
      "outputs": []
    },
    {
      "cell_type": "code",
      "execution_count": null,
      "metadata": {
        "id": "BBI9sgh2IRqc"
      },
      "outputs": [],
      "source": [
        "file_path = '/content/drive/MyDrive/PROJECTS/PMG/Parlimeter/committee-meetings.csv'\n",
        "\n",
        "df = pd.read_csv(file_path)\n",
        "df.head()"
      ]
    },
    {
      "cell_type": "code",
      "source": [
        "df = df.rename(columns={\n",
        "    'Committee → Name': 'committee',\n",
        "    'Actual End Time': 'actual_end_time',\n",
        "    'Actual Start Time': 'actual_start_time',\n",
        "    'Scheduled End Time': 'scheduled_end_time',\n",
        "    'Scheduled Start Time': 'scheduled_start_time',\n",
        "})\n",
        "\n"
      ],
      "metadata": {
        "id": "mMD5e19JJopu"
      },
      "execution_count": null,
      "outputs": []
    },
    {
      "cell_type": "code",
      "source": [
        "# Convert date columns to datetime objects\n",
        "date_columns = ['Date']\n",
        "for col in date_columns:\n",
        "    df[col] = pd.to_datetime(df[col])\n",
        "\n",
        "# Format date columns to 'yyyy-mm-dd'\n",
        "for col in date_columns:\n",
        "    df[col] = df[col].dt.strftime('%Y-%m-%d')"
      ],
      "metadata": {
        "id": "OdNrOtEZKVDj"
      },
      "execution_count": null,
      "outputs": []
    },
    {
      "cell_type": "code",
      "source": [
        "df"
      ],
      "metadata": {
        "id": "_L5qrCkRKsJg"
      },
      "execution_count": null,
      "outputs": []
    },
    {
      "cell_type": "code",
      "source": [
        "df = df.drop(columns=['ID', 'Title'])\n",
        "df"
      ],
      "metadata": {
        "id": "-KloFuy6LpqK"
      },
      "execution_count": null,
      "outputs": []
    },
    {
      "cell_type": "code",
      "source": [
        "import pandas as pd\n",
        "from datetime import datetime\n",
        "\n",
        "\n",
        "# Convert \"HH:MM AM/PM\" to datetime (coerce=NaT for invalid/None).\n",
        "for col in [\"scheduled_start_time\", \"scheduled_end_time\",\n",
        "            \"actual_start_time\", \"actual_end_time\"]:\n",
        "    df[col] = pd.to_datetime(df[col], format=\"%I:%M %p\", errors=\"coerce\")\n",
        "\n",
        "def get_minutes(dt):\n",
        "    \"\"\"Return minutes from midnight or None if dt is NaT.\"\"\"\n",
        "    if pd.isnull(dt):\n",
        "        return None\n",
        "    return dt.hour * 60 + dt.minute\n",
        "\n",
        "def compute_durations(row):\n",
        "    \"\"\"Compute scheduled_time, actual_time, and whether they were estimated.\"\"\"\n",
        "    sched_start = get_minutes(row[\"scheduled_start_time\"])\n",
        "    sched_end   = get_minutes(row[\"scheduled_end_time\"])\n",
        "    actual_start = get_minutes(row[\"actual_start_time\"])\n",
        "    actual_end   = get_minutes(row[\"actual_end_time\"])\n",
        "\n",
        "    # --- scheduled_time ---\n",
        "    if sched_start is not None and sched_end is not None:\n",
        "        scheduled_time = sched_end - sched_start\n",
        "        estimated_scheduled = 0\n",
        "    elif sched_start is not None or sched_end is not None:\n",
        "        scheduled_time = 60  # fallback\n",
        "        estimated_scheduled = 1\n",
        "    else:\n",
        "        if actual_start is not None and actual_end is not None:\n",
        "            scheduled_time = actual_end - actual_start\n",
        "            estimated_scheduled = 0\n",
        "        else:\n",
        "            scheduled_time = 60\n",
        "            estimated_scheduled = 1\n",
        "\n",
        "    # --- actual_time ---\n",
        "    if actual_start is not None and actual_end is not None:\n",
        "        actual_time = actual_end - actual_start\n",
        "        estimated_actual = 0\n",
        "    elif actual_start is not None or actual_end is not None:\n",
        "        actual_time = 60\n",
        "        estimated_actual = 1\n",
        "    else:\n",
        "        if sched_start is not None and sched_end is not None:\n",
        "            actual_time = sched_end - sched_start\n",
        "            estimated_actual = 0\n",
        "        else:\n",
        "            actual_time = 60\n",
        "            estimated_actual = 1\n",
        "\n",
        "    return pd.Series({\n",
        "        \"scheduled_time\": scheduled_time,\n",
        "        \"actual_time\": actual_time,\n",
        "        \"estimated_scheduled\": estimated_scheduled,\n",
        "        \"estimated_actual\": estimated_actual\n",
        "    })\n",
        "\n",
        "# 1) Calculate durations & flags for each row\n",
        "df[[\"scheduled_time\", \"actual_time\", \"estimated_scheduled\", \"estimated_actual\"]] = (\n",
        "    df.apply(compute_durations, axis=1)\n",
        ")\n",
        "\n",
        "# 2) Group by committee and sum\n",
        "grouped = df.groupby(\"committee\").agg({\n",
        "    \"scheduled_time\": \"sum\",\n",
        "    \"actual_time\": \"sum\",\n",
        "    \"estimated_scheduled\": \"sum\",\n",
        "    \"estimated_actual\": \"sum\"\n",
        "}).reset_index()\n",
        "\n",
        "# 3) Build final data structure\n",
        "final_data = []\n",
        "for _, row in grouped.iterrows():\n",
        "    committee_name = row[\"committee\"]\n",
        "    committee_rows = df[\"committee\"] == committee_name\n",
        "    final_data.append({\n",
        "        \"committee\": committee_name,\n",
        "        \"meetings\": int(committee_rows.sum()),\n",
        "        \"total_scheduled_time\": int(row[\"scheduled_time\"]),  # in minutes\n",
        "        \"total_time\": int(row[\"actual_time\"]),              # in minutes\n",
        "        \"estimated_count\": int(row[\"estimated_scheduled\"] + row[\"estimated_actual\"]),\n",
        "        \"trend\": [2, 1, 4, 20],  # placeholder\n",
        "    })\n",
        "\n",
        "# 4) Print as a JavaScript-like list of objects\n",
        "print(final_data)\n"
      ],
      "metadata": {
        "id": "mp2V-56piS2q"
      },
      "execution_count": null,
      "outputs": []
    },
    {
      "cell_type": "code",
      "source": [
        "output_file_path = '/content/drive/MyDrive/PROJECTS/PMG/Parlimeter/modified_parlimeter__committee_meetings.csv'\n",
        "df.to_csv(output_file_path, index=False)"
      ],
      "metadata": {
        "id": "gDAHJwliL1Za"
      },
      "execution_count": null,
      "outputs": []
    },
    {
      "cell_type": "markdown",
      "source": [
        "# Work on meetings with attendance csv"
      ],
      "metadata": {
        "id": "GfaAjMfTW6m5"
      }
    },
    {
      "cell_type": "code",
      "source": [
        "from google.colab import drive\n",
        "import pandas as pd\n",
        "\n",
        "# Mount Google Drive\n",
        "drive.mount('/content/drive')"
      ],
      "metadata": {
        "id": "WpRTHf3SYDqU"
      },
      "execution_count": null,
      "outputs": []
    },
    {
      "cell_type": "code",
      "source": [
        "file_path = '/content/drive/MyDrive/PROJECTS/PMG/Parlimeter/committee-meeting-with-attendance-and-time.csv'\n",
        "df = pd.read_csv(file_path)"
      ],
      "metadata": {
        "id": "M2UGNR_8abC3"
      },
      "execution_count": null,
      "outputs": []
    },
    {
      "cell_type": "code",
      "source": [
        "df"
      ],
      "metadata": {
        "id": "bHMaE4psC-GU"
      },
      "execution_count": null,
      "outputs": []
    },
    {
      "cell_type": "code",
      "source": [
        "for col in [\"scheduled_start_time\", \"scheduled_end_time\",\n",
        "            \"actual_start_time\", \"actual_end_time\"]:\n",
        "    df[col] = pd.to_datetime(df[col], format=\"%H:%M\", errors=\"coerce\")\n",
        "\n",
        "def get_minutes(dt):\n",
        "    \"\"\"Return minutes from midnight or None if dt is NaT.\"\"\"\n",
        "    return None if pd.isnull(dt) else dt.hour * 60 + dt.minute\n",
        "\n",
        "def compute_durations(row):\n",
        "    \"\"\"Compute scheduled_time, actual_time, and whether they were estimated.\"\"\"\n",
        "    sched_start = get_minutes(row[\"scheduled_start_time\"])\n",
        "    sched_end   = get_minutes(row[\"scheduled_end_time\"])\n",
        "    actual_start = get_minutes(row[\"actual_start_time\"])\n",
        "    actual_end   = get_minutes(row[\"actual_end_time\"])\n",
        "\n",
        "    # --- scheduled_time ---\n",
        "    if sched_start is not None and sched_end is not None:\n",
        "        scheduled_time = sched_end - sched_start\n",
        "        estimated_scheduled = 0\n",
        "    elif sched_start is not None or sched_end is not None:\n",
        "        scheduled_time = 60  # fallback\n",
        "        estimated_scheduled = 1\n",
        "    else:\n",
        "        if actual_start is not None and actual_end is not None:\n",
        "            scheduled_time = actual_end - actual_start\n",
        "            estimated_scheduled = 0\n",
        "        else:\n",
        "            scheduled_time = 60\n",
        "            estimated_scheduled = 1\n",
        "\n",
        "    # --- actual_time ---\n",
        "    if actual_start is not None and actual_end is not None:\n",
        "        actual_time = actual_end - actual_start\n",
        "        estimated_actual = 0\n",
        "    elif actual_start is not None or actual_end is not None:\n",
        "        actual_time = 60\n",
        "        estimated_actual = 1\n",
        "    else:\n",
        "        if sched_start is not None and sched_end is not None:\n",
        "            actual_time = sched_end - sched_start\n",
        "            estimated_actual = 0\n",
        "        else:\n",
        "            actual_time = 60\n",
        "            estimated_actual = 1\n",
        "\n",
        "    return pd.Series({\n",
        "        \"scheduled_time\": scheduled_time,\n",
        "        \"actual_time\": actual_time\n",
        "    })\n",
        "\n",
        "df[[\"scheduled_time\", \"actual_time\"]] = (\n",
        "    df.apply(compute_durations, axis=1)\n",
        ")\n",
        "\n",
        "df"
      ],
      "metadata": {
        "id": "IFTCoNn8bHwM"
      },
      "execution_count": null,
      "outputs": []
    },
    {
      "cell_type": "code",
      "source": [
        "for col in [\"scheduled_start_time\", \"scheduled_end_time\",\n",
        "            \"actual_start_time\", \"actual_end_time\"]:\n",
        "    df[col] = df[col].dt.strftime(\"%H:%M\")"
      ],
      "metadata": {
        "id": "pSeeJKBsejkQ"
      },
      "execution_count": null,
      "outputs": []
    },
    {
      "cell_type": "code",
      "source": [
        "df"
      ],
      "metadata": {
        "id": "etbZyOtMCcN9"
      },
      "execution_count": null,
      "outputs": []
    },
    {
      "cell_type": "code",
      "source": [
        "output_file_path = '/content/drive/MyDrive/PROJECTS/PMG/Parlimeter/committee-meeting-with-attendance-and-time-final.csv'\n",
        "df.to_csv(output_file_path, index=False)\n"
      ],
      "metadata": {
        "id": "5qv-ZiPxcE6f"
      },
      "execution_count": null,
      "outputs": []
    }
  ]
}